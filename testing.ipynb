{
 "cells": [
  {
   "cell_type": "code",
   "execution_count": 1,
   "metadata": {},
   "outputs": [],
   "source": [
    "from EnderRegressor import EnderRegressor"
   ]
  },
  {
   "cell_type": "code",
   "execution_count": 8,
   "metadata": {},
   "outputs": [],
   "source": [
    "from sklearn.datasets import make_regression, fetch_california_housing\n",
    "from sklearn.model_selection import train_test_split\n",
    "from sklearn.metrics import mean_squared_error, classification_report\n",
    "import numpy as np\n",
    "import pandas as pd\n",
    "from time import time\n",
    "\n",
    "\n",
    "# Generate synthetic data\n",
    "# X, y = make_regression(n_samples=1000, n_features=N, noise=0.1)\n",
    "# X, y = fetch_california_housing(return_X_y=True)\n",
    "# X = pd.DataFrame(X, columns=[f'Feature{i}' for i in range(8)])\n",
    "# y = pd.Series(y, name='Target')\n",
    "# # Standardize the data\n",
    "# X = (X - X.mean()) / X.std()\n",
    "df = pd.read_csv(\"/home/maciej/Desktop/Maciej/endometriosis/endometriosis_cleaned.csv\")\n",
    "# df.head()\n",
    "X = df.drop(columns=['target'])\n",
    "y = df['target']\n",
    "# Split the data into training and testing sets\n",
    "X_train, X_test, y_train, y_test = train_test_split(X, y, test_size=0.2, random_state=42)"
   ]
  },
  {
   "cell_type": "code",
   "execution_count": 3,
   "metadata": {},
   "outputs": [
    {
     "name": "stdout",
     "output_type": "stream",
     "text": [
      "Number of occurrences of 1s in the target column: 159.0\n",
      "0.21212121212121213\n"
     ]
    }
   ],
   "source": [
    "count_ones = y.sum()\n",
    "print(f\"Number of occurrences of 1s in the target column: {count_ones}\")\n",
    "print(140/len(y))"
   ]
  },
  {
   "cell_type": "code",
   "execution_count": 4,
   "metadata": {},
   "outputs": [
    {
     "name": "stdout",
     "output_type": "stream",
     "text": [
      "Execution time: 10.72854 seconds\n"
     ]
    }
   ],
   "source": [
    "start = time()\n",
    "# Initialize the EnderRegressor\n",
    "ender = EnderRegressor(verbose=False)\n",
    "# Fit the model\n",
    "ender.fit(X_train, y_train)\n",
    "# Make predictions\n",
    "y_pred = ender.predict(X_test)\n",
    "print(f\"Execution time: {time() - start:.5f} seconds\")\n",
    "# Calculate the mean squared error\n",
    "mse = mean_squared_error(y_test, y_pred)\n",
    "# This code demonstrates the usage of the EnderRegressor class for regression tasks.\n",
    "# It generates synthetic data, splits it into training and testing sets, fits the model, makes predictions,\n",
    "# and evaluates the model's performance using mean squared error. Finally, it visualizes the actual vs predicted values.\n",
    "# The EnderRegressor class is assumed to be defined in the EnderRegressor module, which is imported at the beginning of the code.\n",
    "# The code uses the sklearn library for data generation, model evaluation, and plotting.\n",
    "# print(\"Non-cythonized results:\")\n",
    "# print(\"Mean Squared Error: 0.3139479023886016, Execution time: 117.81195 seconds\")\n",
    "# print(\"Cythonized results:\")\n",
    "# print(f'Mean Squared Error: {mse}')\n",
    "\n",
    "# 114.43729 seconds\n",
    "# Mean Squared Error: 0.3139479023886016\n",
    "# 117.24544 seconds\n",
    "# Mean Squared Error: 0.3139479023886016\n",
    "# 37.02868 seconds\n",
    "# Mean Squared Error: 1.248957412452316\n",
    "# 95.09130 seconds\n",
    "# Mean Squared Error: 0.3139479023886016\n"
   ]
  },
  {
   "cell_type": "code",
   "execution_count": 5,
   "metadata": {},
   "outputs": [
    {
     "name": "stdout",
     "output_type": "stream",
     "text": [
      "Mean Squared Error: 0.19095323563232033\n"
     ]
    }
   ],
   "source": [
    "mse = mean_squared_error(y_test, y_pred)\n",
    "print(f'Mean Squared Error: {mse}')"
   ]
  },
  {
   "cell_type": "code",
   "execution_count": 9,
   "metadata": {},
   "outputs": [
    {
     "name": "stdout",
     "output_type": "stream",
     "text": [
      "Accuracy: 0.73\n",
      "Classification report:\n",
      "              precision    recall  f1-score   support\n",
      "\n",
      "         0.0       0.73      1.00      0.85        97\n",
      "         1.0       0.00      0.00      0.00        35\n",
      "\n",
      "    accuracy                           0.73       132\n",
      "   macro avg       0.37      0.50      0.42       132\n",
      "weighted avg       0.54      0.73      0.62       132\n",
      "\n"
     ]
    },
    {
     "name": "stderr",
     "output_type": "stream",
     "text": [
      "/home/maciej/Desktop/Maciej/MSc/mscenv/lib/python3.10/site-packages/sklearn/metrics/_classification.py:1565: UndefinedMetricWarning: Precision is ill-defined and being set to 0.0 in labels with no predicted samples. Use `zero_division` parameter to control this behavior.\n",
      "  _warn_prf(average, modifier, f\"{metric.capitalize()} is\", len(result))\n",
      "/home/maciej/Desktop/Maciej/MSc/mscenv/lib/python3.10/site-packages/sklearn/metrics/_classification.py:1565: UndefinedMetricWarning: Precision is ill-defined and being set to 0.0 in labels with no predicted samples. Use `zero_division` parameter to control this behavior.\n",
      "  _warn_prf(average, modifier, f\"{metric.capitalize()} is\", len(result))\n",
      "/home/maciej/Desktop/Maciej/MSc/mscenv/lib/python3.10/site-packages/sklearn/metrics/_classification.py:1565: UndefinedMetricWarning: Precision is ill-defined and being set to 0.0 in labels with no predicted samples. Use `zero_division` parameter to control this behavior.\n",
      "  _warn_prf(average, modifier, f\"{metric.capitalize()} is\", len(result))\n"
     ]
    }
   ],
   "source": [
    "preds = [0.0 if pred < 0.5 else 1.0 for pred in y_pred]\n",
    "# calculate the accuracy\n",
    "accuracy = np.mean(preds == y_test)\n",
    "print(f\"Accuracy: {accuracy:.2f}\")\n",
    "print(f\"Classification report:\\n{classification_report(y_test, preds)}\")"
   ]
  },
  {
   "cell_type": "code",
   "execution_count": 11,
   "metadata": {},
   "outputs": [
    {
     "name": "stdout",
     "output_type": "stream",
     "text": [
      "XGBoost Mean Squared Error: 0.1586285132511358\n"
     ]
    }
   ],
   "source": [
    "import xgboost as xgb\n",
    "\n",
    "xgb_model = xgb.XGBRegressor()\n",
    "xgb_model.fit(X_train, y_train)\n",
    "xgb_preds = xgb_model.predict(X_test)\n",
    "xgb_mse = mean_squared_error(y_test, xgb_preds)\n",
    "print(f\"XGBoost Mean Squared Error: {xgb_mse}\")"
   ]
  },
  {
   "cell_type": "code",
   "execution_count": 13,
   "metadata": {},
   "outputs": [
    {
     "name": "stdout",
     "output_type": "stream",
     "text": [
      "528\n",
      "Accuracy: 0.80\n",
      "Classification report:\n",
      "              precision    recall  f1-score   support\n",
      "\n",
      "         0.0       0.84      0.90      0.87        97\n",
      "         1.0       0.64      0.51      0.57        35\n",
      "\n",
      "    accuracy                           0.80       132\n",
      "   macro avg       0.74      0.71      0.72       132\n",
      "weighted avg       0.79      0.80      0.79       132\n",
      "\n"
     ]
    }
   ],
   "source": [
    "xgbclass = xgb.XGBClassifier()\n",
    "print(len(X_train))\n",
    "xgbclass.fit(X_train, y_train)\n",
    "xgbclass_preds = xgbclass.predict(X_test)\n",
    "print(f\"Accuracy: {xgbclass.score(X_test, y_test):.2f}\")\n",
    "print(f\"Classification report:\\n{classification_report(y_test, xgbclass_preds)}\")"
   ]
  },
  {
   "cell_type": "code",
   "execution_count": 4,
   "metadata": {},
   "outputs": [
    {
     "name": "stdout",
     "output_type": "stream",
     "text": [
      "Time imporvement:\n",
      "-22.142227507481206 %\n"
     ]
    }
   ],
   "source": [
    "print(\"Time imporvement:\")\n",
    "print((91.72576-117.81195)/117.81195 * 100, \"%\")"
   ]
  }
 ],
 "metadata": {
  "kernelspec": {
   "display_name": "mscenv",
   "language": "python",
   "name": "python3"
  },
  "language_info": {
   "codemirror_mode": {
    "name": "ipython",
    "version": 3
   },
   "file_extension": ".py",
   "mimetype": "text/x-python",
   "name": "python",
   "nbconvert_exporter": "python",
   "pygments_lexer": "ipython3",
   "version": "3.10.12"
  }
 },
 "nbformat": 4,
 "nbformat_minor": 2
}
