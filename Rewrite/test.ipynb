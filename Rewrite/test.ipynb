{
 "cells": [
  {
   "cell_type": "code",
   "execution_count": 1,
   "id": "6be705fd",
   "metadata": {},
   "outputs": [],
   "source": [
    "import pandas as pd\n",
    "import numpy as np\n",
    "import cython\n",
    "from sklearn.model_selection import train_test_split\n",
    "from sklearn.metrics import accuracy_score, classification_report, confusion_matrix\n",
    "\n",
    "df = pd.read_csv(\"/home/maciej/Desktop/Maciej/endometriosis/endometriosis.csv\")\n",
    "X = df.drop(columns=['target'])\n",
    "y = df['target'].astype('int')\n",
    "# Split the data into training and testing sets\n",
    "X_train, X_test, y_train, y_test = train_test_split(X, y, test_size=0.3, random_state=42, stratify=y)"
   ]
  },
  {
   "cell_type": "code",
   "execution_count": 3,
   "id": "e578361d",
   "metadata": {},
   "outputs": [
    {
     "name": "stdout",
     "output_type": "stream",
     "text": [
      "ENDER CLASSIFIER NORMAL\n"
     ]
    }
   ],
   "source": [
    "from CalculateMetrics import calculate_all_metrics\n",
    "from EnderClassifier import EnderClassifier\n",
    "\n",
    "print(\"ENDER CLASSIFIER NORMAL\")\n",
    "ender = EnderClassifier(verbose=False, n_rules=100, use_gradient=False)\n",
    "ender.fit(X_train, y_train)"
   ]
  },
  {
   "cell_type": "code",
   "execution_count": 4,
   "id": "f9bbc18e",
   "metadata": {},
   "outputs": [
    {
     "name": "stdout",
     "output_type": "stream",
     "text": [
      "Normal Ender Classifier\n",
      "Accuracy: 0.83\n",
      "\n",
      "Classification Report - Test:\n",
      "              precision    recall  f1-score   support\n",
      "\n",
      "           0       0.85      0.93      0.89       151\n",
      "           1       0.71      0.50      0.59        48\n",
      "\n",
      "    accuracy                           0.83       199\n",
      "   macro avg       0.78      0.72      0.74       199\n",
      "weighted avg       0.82      0.83      0.82       199\n",
      "\n",
      "Confusion Matrix:\n",
      "                    No Endometriosis    Endometriosis       \n",
      "No Endometriosis    141                 10                    # True Negative (TN), False Positive (FP)\n",
      "Endometriosis       24                  24                    # False Negative (FN), True Positive (TP)\n"
     ]
    }
   ],
   "source": [
    "y_train_pred = ender.predict(X_train)\n",
    "y_test_pred = ender.predict(X_test)\n",
    "\n",
    "train_metrics = calculate_all_metrics(y_train, y_train_pred)\n",
    "test_metrics = calculate_all_metrics(y_test, y_test_pred)\n",
    "\n",
    "y_pred = np.array([np.argmax(pred) for pred in y_test_pred])\n",
    "\n",
    "print(\"Normal Ender Classifier\")\n",
    "print(f\"Accuracy: {accuracy_score(y_test, y_pred):.2f}\\n\")\n",
    "print(\"Classification Report - Test:\")\n",
    "print(classification_report(y_test, y_pred))\n",
    "\n",
    "cm = confusion_matrix(y_test, y_pred)\n",
    "labels = ['No Endometriosis', 'Endometriosis']\n",
    "print(\"Confusion Matrix:\")\n",
    "print(f\"{'':<20}{labels[0]:<20}{labels[1]:<20}\")\n",
    "print(f\"{labels[0]:<20}{cm[0, 0]:<20}{cm[0, 1]:<20}  # True Negative (TN), False Positive (FP)\")\n",
    "print(f\"{labels[1]:<20}{cm[1, 0]:<20}{cm[1, 1]:<20}  # False Negative (FN), True Positive (TP)\")"
   ]
  },
  {
   "cell_type": "code",
   "execution_count": 2,
   "id": "f88e1599",
   "metadata": {},
   "outputs": [
    {
     "name": "stdout",
     "output_type": "stream",
     "text": [
      "EnderClassifierModified\n"
     ]
    }
   ],
   "source": [
    "from CalculateMetrics import calculate_all_metrics\n",
    "from EnderClassifierModified import EnderClassifier\n",
    "\n",
    "print(\"EnderClassifierModified\")\n",
    "enderM = EnderClassifier(verbose=False, n_rules=100, use_gradient=False)\n",
    "enderM.fit(X_train, y_train)"
   ]
  },
  {
   "cell_type": "code",
   "execution_count": 6,
   "id": "81bba18a",
   "metadata": {},
   "outputs": [
    {
     "name": "stdout",
     "output_type": "stream",
     "text": [
      "Modified Ender Classifier\n",
      "Accuracy: 0.83\n",
      "\n",
      "Classification Report - Test:\n",
      "              precision    recall  f1-score   support\n",
      "\n",
      "           0       0.85      0.93      0.89       151\n",
      "           1       0.71      0.50      0.59        48\n",
      "\n",
      "    accuracy                           0.83       199\n",
      "   macro avg       0.78      0.72      0.74       199\n",
      "weighted avg       0.82      0.83      0.82       199\n",
      "\n",
      "Confusion Matrix:\n",
      "                    No Endometriosis    Endometriosis       \n",
      "No Endometriosis    141                 10                    # True Negative (TN), False Positive (FP)\n",
      "Endometriosis       24                  24                    # False Negative (FN), True Positive (TP)\n"
     ]
    }
   ],
   "source": [
    "y_train_pred = enderM.predict(X_train)\n",
    "y_test_pred = enderM.predict(X_test)\n",
    "\n",
    "train_metrics = calculate_all_metrics(y_train, y_train_pred)\n",
    "test_metrics = calculate_all_metrics(y_test, y_test_pred)\n",
    "\n",
    "y_pred = np.array([np.argmax(pred) for pred in y_test_pred])\n",
    "\n",
    "print(\"Modified Ender Classifier\")\n",
    "print(f\"Accuracy: {accuracy_score(y_test, y_pred):.2f}\\n\")\n",
    "print(\"Classification Report - Test:\")\n",
    "print(classification_report(y_test, y_pred))\n",
    "\n",
    "cm = confusion_matrix(y_test, y_pred)\n",
    "labels = ['No Endometriosis', 'Endometriosis']\n",
    "print(\"Confusion Matrix:\")\n",
    "print(f\"{'':<20}{labels[0]:<20}{labels[1]:<20}\")\n",
    "print(f\"{labels[0]:<20}{cm[0, 0]:<20}{cm[0, 1]:<20}  # True Negative (TN), False Positive (FP)\")\n",
    "print(f\"{labels[1]:<20}{cm[1, 0]:<20}{cm[1, 1]:<20}  # False Negative (FN), True Positive (TP)\")"
   ]
  },
  {
   "cell_type": "code",
   "execution_count": 12,
   "id": "66a572df",
   "metadata": {},
   "outputs": [
    {
     "name": "stdout",
     "output_type": "stream",
     "text": [
      "EnderClassifier with 15 rules\n",
      "Test Accuracy: 0.82\n",
      "Train Accuracy: 0.94\n",
      "================================\n",
      "EnderClassifier with 16 rules\n",
      "Test Accuracy: 0.82\n",
      "Train Accuracy: 0.94\n",
      "================================\n",
      "EnderClassifier with 17 rules\n",
      "Test Accuracy: 0.83\n",
      "Train Accuracy: 0.95\n",
      "================================\n",
      "EnderClassifier with 18 rules\n",
      "Test Accuracy: 0.83\n",
      "Train Accuracy: 0.95\n",
      "================================\n",
      "EnderClassifier with 19 rules\n",
      "Test Accuracy: 0.83\n",
      "Train Accuracy: 0.96\n",
      "================================\n",
      "EnderClassifier with 20 rules\n",
      "Test Accuracy: 0.83\n",
      "Train Accuracy: 0.96\n",
      "================================\n",
      "EnderClassifier with 21 rules\n",
      "Test Accuracy: 0.83\n",
      "Train Accuracy: 0.96\n",
      "================================\n",
      "EnderClassifier with 22 rules\n",
      "Test Accuracy: 0.83\n",
      "Train Accuracy: 0.97\n",
      "================================\n",
      "EnderClassifier with 23 rules\n",
      "Test Accuracy: 0.83\n",
      "Train Accuracy: 0.97\n",
      "================================\n",
      "EnderClassifier with 24 rules\n",
      "Test Accuracy: 0.83\n",
      "Train Accuracy: 0.97\n",
      "================================\n",
      "EnderClassifier with 25 rules\n",
      "Test Accuracy: 0.82\n",
      "Train Accuracy: 0.97\n",
      "================================\n",
      "EnderClassifier with 26 rules\n",
      "Test Accuracy: 0.83\n",
      "Train Accuracy: 0.97\n",
      "================================\n",
      "EnderClassifier with 27 rules\n",
      "Test Accuracy: 0.83\n",
      "Train Accuracy: 0.97\n",
      "================================\n",
      "EnderClassifier with 28 rules\n",
      "Test Accuracy: 0.83\n",
      "Train Accuracy: 0.98\n",
      "================================\n",
      "EnderClassifier with 29 rules\n",
      "Test Accuracy: 0.82\n",
      "Train Accuracy: 0.98\n",
      "================================\n",
      "EnderClassifier with 30 rules\n",
      "Test Accuracy: 0.82\n",
      "Train Accuracy: 0.98\n",
      "================================\n",
      "EnderClassifier with 31 rules\n",
      "Test Accuracy: 0.82\n",
      "Train Accuracy: 0.98\n",
      "================================\n",
      "EnderClassifier with 32 rules\n",
      "Test Accuracy: 0.82\n",
      "Train Accuracy: 0.98\n",
      "================================\n",
      "EnderClassifier with 33 rules\n",
      "Test Accuracy: 0.83\n",
      "Train Accuracy: 0.98\n",
      "================================\n",
      "EnderClassifier with 34 rules\n",
      "Test Accuracy: 0.83\n",
      "Train Accuracy: 0.98\n",
      "================================\n",
      "EnderClassifier with 35 rules\n",
      "Test Accuracy: 0.83\n",
      "Train Accuracy: 0.99\n",
      "================================\n",
      "EnderClassifier with 36 rules\n",
      "Test Accuracy: 0.83\n",
      "Train Accuracy: 0.99\n",
      "================================\n",
      "EnderClassifier with 37 rules\n",
      "Test Accuracy: 0.83\n",
      "Train Accuracy: 0.99\n",
      "================================\n",
      "EnderClassifier with 38 rules\n",
      "Test Accuracy: 0.83\n",
      "Train Accuracy: 0.99\n",
      "================================\n",
      "EnderClassifier with 39 rules\n",
      "Test Accuracy: 0.84\n",
      "Train Accuracy: 0.99\n",
      "================================\n",
      "EnderClassifier with 40 rules\n",
      "Test Accuracy: 0.84\n",
      "Train Accuracy: 0.99\n",
      "================================\n",
      "EnderClassifier with 41 rules\n",
      "Test Accuracy: 0.84\n",
      "Train Accuracy: 1.00\n",
      "================================\n",
      "EnderClassifier with 42 rules\n",
      "Test Accuracy: 0.83\n",
      "Train Accuracy: 1.00\n",
      "================================\n",
      "EnderClassifier with 43 rules\n",
      "Test Accuracy: 0.83\n",
      "Train Accuracy: 1.00\n",
      "================================\n",
      "EnderClassifier with 44 rules\n",
      "Test Accuracy: 0.83\n",
      "Train Accuracy: 1.00\n",
      "================================\n"
     ]
    }
   ],
   "source": [
    "for n in range(15, 45):\n",
    "    ender = EnderClassifier(verbose=False, n_rules=n, use_gradient=False)\n",
    "    ender.fit(X_train, y_train)\n",
    "    y_train_pred = ender.predict(X_train)\n",
    "    y_train_pred = np.array([np.argmax(pred) for pred in y_train_pred])\n",
    "    y_test_pred = ender.predict(X_test)\n",
    "    y_pred = np.array([np.argmax(pred) for pred in y_test_pred])\n",
    "    print(f\"EnderClassifier with {n} rules\")\n",
    "    print(f\"Test Accuracy: {accuracy_score(y_test, y_pred):.2f}\")\n",
    "    print(f\"Train Accuracy: {accuracy_score(y_train, y_train_pred):.2f}\")\n",
    "    print(\"================================\")"
   ]
  },
  {
   "cell_type": "code",
   "execution_count": 6,
   "id": "13c4f369",
   "metadata": {},
   "outputs": [
    {
     "name": "stdout",
     "output_type": "stream",
     "text": [
      "Training time for 14 rules: 0.51 seconds\n",
      "Modified Ender Classifier\n",
      "Accuracy: 0.84\n",
      "\n",
      "Classification Report - Test:\n",
      "              precision    recall  f1-score   support\n",
      "\n",
      "           0       0.86      0.95      0.90       151\n",
      "           1       0.75      0.50      0.60        48\n",
      "\n",
      "    accuracy                           0.84       199\n",
      "   macro avg       0.80      0.72      0.75       199\n",
      "weighted avg       0.83      0.84      0.83       199\n",
      "\n",
      "Confusion Matrix:\n",
      "                    No Endometriosis    Endometriosis       \n",
      "No Endometriosis    143                 8                     # True Negative (TN), False Positive (FP)\n",
      "Endometriosis       24                  24                    # False Negative (FN), True Positive (TP)\n"
     ]
    }
   ],
   "source": [
    "from time import time\n",
    "ender = EnderClassifier(verbose=False, n_rules=41, use_gradient=False)\n",
    "start_time = time()\n",
    "ender.fit(X_train, y_train)\n",
    "# y_train_pred = ender.predict(X_train)\n",
    "# y_train_pred = np.array([np.argmax(pred) for pred in y_train_pred])\n",
    "y_test_pred = ender.predict(X_test)\n",
    "y_pred = np.array([np.argmax(pred) for pred in y_test_pred])\n",
    "print(f\"Training time for 14 rules: {time() - start_time:.2f} seconds\")\n",
    "\n",
    "print(\"Modified Ender Classifier\")\n",
    "print(f\"Accuracy: {accuracy_score(y_test, y_pred):.2f}\\n\")\n",
    "print(\"Classification Report - Test:\")\n",
    "print(classification_report(y_test, y_pred))\n",
    "\n",
    "cm = confusion_matrix(y_test, y_pred)\n",
    "labels = ['No Endometriosis', 'Endometriosis']\n",
    "print(\"Confusion Matrix:\")\n",
    "print(f\"{'':<20}{labels[0]:<20}{labels[1]:<20}\")\n",
    "print(f\"{labels[0]:<20}{cm[0, 0]:<20}{cm[0, 1]:<20}  # True Negative (TN), False Positive (FP)\")\n",
    "print(f\"{labels[1]:<20}{cm[1, 0]:<20}{cm[1, 1]:<20}  # False Negative (FN), True Positive (TP)\")"
   ]
  },
  {
   "cell_type": "code",
   "execution_count": 6,
   "id": "6994013e",
   "metadata": {},
   "outputs": [],
   "source": [
    "# from EnderRegressor import EnderRegressor\n",
    "# from CalculateMetrics import calculate_all_metrics\n",
    "\n",
    "# import pandas as pd\n",
    "# import numpy as np\n",
    "# from sklearn.model_selection import train_test_split\n",
    "# from sklearn.metrics import accuracy_score, classification_report, confusion_matrix\n",
    "\n",
    "# df = pd.read_csv(\"/home/maciej/Desktop/Maciej/endometriosis/endometriosis.csv\")\n",
    "# X = df.drop(columns=['target'])\n",
    "# y = df['target'].astype('int')\n",
    "# # Split the data into training and testing sets\n",
    "# X_train, X_test, y_train, y_test = train_test_split(X, y, test_size=0.3, random_state=42, stratify=y)\n",
    "\n",
    "# ender = EnderRegressor(verbose=False)\n",
    "# ender.fit(X_train, y_train)"
   ]
  },
  {
   "cell_type": "code",
   "execution_count": 7,
   "id": "feead7bc",
   "metadata": {},
   "outputs": [],
   "source": [
    "# ender.evaluate_all_rules()\n",
    "# ender.rules"
   ]
  },
  {
   "cell_type": "code",
   "execution_count": 8,
   "id": "3af1d7ac",
   "metadata": {},
   "outputs": [],
   "source": [
    "# y_train_pred = ender.predict(X_train)\n",
    "# y_test_pred = ender.predict(X_test)\n",
    "\n",
    "# train_metrics = calculate_all_metrics(y_train, y_train_pred)\n",
    "# test_metrics = calculate_all_metrics(y_test, y_test_pred)"
   ]
  },
  {
   "cell_type": "code",
   "execution_count": 9,
   "id": "da26a6f6",
   "metadata": {},
   "outputs": [],
   "source": [
    "# y_pred = np.array([np.argmax(pred) for pred in y_test_pred])\n",
    "\n",
    "# print(f\"Accuracy: {accuracy_score(y_test, y_pred):.2f}\\n\")\n",
    "# print(\"Classification Report - Test:\")\n",
    "# print(classification_report(y_test, y_pred))\n",
    "\n",
    "# cm = confusion_matrix(y_test, y_pred)\n",
    "# labels = ['No Endometriosis', 'Endometriosis']\n",
    "# print(\"Confusion Matrix:\")\n",
    "# print(f\"{'':<20}{labels[0]:<20}{labels[1]:<20}\")\n",
    "# print(f\"{labels[0]:<20}{cm[0, 0]:<20}{cm[0, 1]:<20}  # True Negative (TN), False Positive (FP)\")\n",
    "# print(f\"{labels[1]:<20}{cm[1, 0]:<20}{cm[1, 1]:<20}  # False Negative (FN), True Positive (TP)\")"
   ]
  },
  {
   "cell_type": "code",
   "execution_count": 10,
   "id": "f6b20d79",
   "metadata": {},
   "outputs": [],
   "source": [
    "# from EnderClassifier import EnderClassifier as ECOG"
   ]
  },
  {
   "cell_type": "code",
   "execution_count": 11,
   "id": "ccc711a8",
   "metadata": {},
   "outputs": [],
   "source": [
    "# ender2 = ECOG(verbose=False)\n",
    "# ender2.fit(X_train, y_train)"
   ]
  },
  {
   "cell_type": "code",
   "execution_count": 12,
   "id": "072db73f",
   "metadata": {},
   "outputs": [],
   "source": [
    "# ender2.evaluate_all_rules()"
   ]
  },
  {
   "cell_type": "code",
   "execution_count": 13,
   "id": "6ce540f5",
   "metadata": {},
   "outputs": [],
   "source": [
    "# ender = ender2"
   ]
  },
  {
   "cell_type": "code",
   "execution_count": 14,
   "id": "cd726dc3",
   "metadata": {},
   "outputs": [],
   "source": [
    "# y_train_pred = ender.predict(X_train)\n",
    "# y_test_pred = ender.predict(X_test)\n",
    "# train_metrics = calculate_all_metrics(y_train, y_train_pred)\n",
    "# test_metrics = calculate_all_metrics(y_test, y_test_pred)"
   ]
  },
  {
   "cell_type": "code",
   "execution_count": 15,
   "id": "0fdc0f2b",
   "metadata": {},
   "outputs": [],
   "source": [
    "# y_pred = np.array([np.argmax(pred) for pred in y_test_pred])\n",
    "\n",
    "# print(f\"Accuracy: {accuracy_score(y_test, y_pred):.2f}\\n\")\n",
    "# print(\"Classification Report - Test:\")\n",
    "# print(classification_report(y_test, y_pred))\n",
    "\n",
    "# cm = confusion_matrix(y_test, y_pred)\n",
    "# labels = ['No Endometriosis', 'Endometriosis']\n",
    "# print(\"Confusion Matrix:\")\n",
    "# print(f\"{'':<20}{labels[0]:<20}{labels[1]:<20}\")\n",
    "# print(f\"{labels[0]:<20}{cm[0, 0]:<20}{cm[0, 1]:<20}  # True Negative (TN), False Positive (FP)\")\n",
    "# print(f\"{labels[1]:<20}{cm[1, 0]:<20}{cm[1, 1]:<20}  # False Negative (FN), True Positive (TP)\")"
   ]
  }
 ],
 "metadata": {
  "kernelspec": {
   "display_name": "mscenv",
   "language": "python",
   "name": "python3"
  },
  "language_info": {
   "codemirror_mode": {
    "name": "ipython",
    "version": 3
   },
   "file_extension": ".py",
   "mimetype": "text/x-python",
   "name": "python",
   "nbconvert_exporter": "python",
   "pygments_lexer": "ipython3",
   "version": "3.10.12"
  }
 },
 "nbformat": 4,
 "nbformat_minor": 5
}
